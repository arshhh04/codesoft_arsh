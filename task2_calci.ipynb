{
  "nbformat": 4,
  "nbformat_minor": 0,
  "metadata": {
    "colab": {
      "provenance": [],
      "authorship_tag": "ABX9TyPRWqjmVaCYNJ04GAG04DMm",
      "include_colab_link": true
    },
    "kernelspec": {
      "name": "python3",
      "display_name": "Python 3"
    },
    "language_info": {
      "name": "python"
    }
  },
  "cells": [
    {
      "cell_type": "markdown",
      "metadata": {
        "id": "view-in-github",
        "colab_type": "text"
      },
      "source": [
        "<a href=\"https://colab.research.google.com/github/arshhh04/codesoft_arsh/blob/main/task2_calci.ipynb\" target=\"_parent\"><img src=\"https://colab.research.google.com/assets/colab-badge.svg\" alt=\"Open In Colab\"/></a>"
      ]
    },
    {
      "cell_type": "code",
      "execution_count": null,
      "metadata": {
        "colab": {
          "base_uri": "https://localhost:8080/"
        },
        "id": "1RubC6ms-Msy",
        "outputId": "867de9ca-26bb-4816-dd43-318628740059"
      },
      "outputs": [
        {
          "output_type": "stream",
          "name": "stdout",
          "text": [
            "This is your calculator\n",
            "enter first number5\n",
            "enter second number6\n",
            "Enter 1 if u want to perform addition\n",
            "Enter 2 if u want to perform subtraction\n",
            "Enter 3 if u want to perform multiplication\n",
            "Enter 4 if u want to perform division\n",
            "Enter 5 if u want to perform modulus\n",
            "Enter 6 if u want to perform power\n",
            "Enter 7 if u want to perform square root\n",
            "Enter 8 if u want to perform log\n",
            "Enter 9 if u want to perform exponential\n",
            "enter your choice8\n",
            "1.6094379124341003\n"
          ]
        }
      ],
      "source": [
        "import math\n",
        "def add(a,b):\n",
        "  return(a+b)\n",
        "\n",
        "def sub(a,b):\n",
        "  return(a-b)\n",
        "\n",
        "def mul(a,b):\n",
        "  return(a*b)\n",
        "\n",
        "def div(a,b):\n",
        "  return(a/b)\n",
        "\n",
        "def mod(a,b):\n",
        "  return(a%b)\n",
        "\n",
        "def pow(a,b):\n",
        "  return(a**b)\n",
        "\n",
        "def sqrt(a):\n",
        "  return(a**0.5)\n",
        "\n",
        "def log(a):\n",
        "  return(math.log(a))\n",
        "\n",
        "def exp(a):\n",
        "  return(math.exp(a))\n",
        "print(\"This is your calculator\")\n",
        "a=int(input(\"enter first number\"))\n",
        "b=int(input(\"enter second number\"))\n",
        "print(\"Enter 1 if u want to perform addition\")\n",
        "print(\"Enter 2 if u want to perform subtraction\")\n",
        "print(\"Enter 3 if u want to perform multiplication\")\n",
        "print(\"Enter 4 if u want to perform division\")\n",
        "print(\"Enter 5 if u want to perform modulus\")\n",
        "print(\"Enter 6 if u want to perform power\")\n",
        "print(\"Enter 7 if u want to perform square root\")\n",
        "print(\"Enter 8 if u want to perform log\")\n",
        "print(\"Enter 9 if u want to perform exponential\")\n",
        "choice=int(input(\"enter your choice\"))\n",
        "if choice==1:\n",
        "  print(add(a,b))\n",
        "elif choice==2:\n",
        "  print(sub(a,b))\n",
        "elif choice==3:\n",
        "  print(mul(a,b))\n",
        "elif choice==4:\n",
        "  print(div(a,b))\n",
        "elif choice==5:\n",
        "  print(mod(a,b))\n",
        "elif choice==6:\n",
        "  print(pow(a,b))\n",
        "elif choice==7:\n",
        "  print(sqrt(a))\n",
        "elif choice==8:\n",
        "  print(log(a))\n",
        "elif choice==9:\n",
        "  print(exp(a))\n",
        "else:\n",
        "  print(\"invalid choice\")\n"
      ]
    }
  ]
}