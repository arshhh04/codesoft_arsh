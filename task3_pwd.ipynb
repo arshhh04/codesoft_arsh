{
  "nbformat": 4,
  "nbformat_minor": 0,
  "metadata": {
    "colab": {
      "provenance": [],
      "authorship_tag": "ABX9TyPE8M5ASZyVQoVhpld7yQIT",
      "include_colab_link": true
    },
    "kernelspec": {
      "name": "python3",
      "display_name": "Python 3"
    },
    "language_info": {
      "name": "python"
    }
  },
  "cells": [
    {
      "cell_type": "markdown",
      "metadata": {
        "id": "view-in-github",
        "colab_type": "text"
      },
      "source": [
        "<a href=\"https://colab.research.google.com/github/arshhh04/codesoft_arsh/blob/main/task3_pwd.ipynb\" target=\"_parent\"><img src=\"https://colab.research.google.com/assets/colab-badge.svg\" alt=\"Open In Colab\"/></a>"
      ]
    },
    {
      "cell_type": "code",
      "source": [
        "import random\n",
        "def number(length):\n",
        "  numbers=[]\n",
        "  for i in range(int(length/2)):\n",
        "    numbers.append(random.randint(0,9))\n",
        "  return(numbers)\n",
        "def alphabets(length):\n",
        "  alpha=[]\n",
        "  a=['a','b','c','d','e','f','g','h','i','j','k','l','m','n','o','p','q','r','s','t','u','v','w','x','y','z','A','B','C','D','E','E','F','G','H','I','J','K','L','M','N','O','P','Q','R','S','T','U','V','W','X','Y','Z','@','#','*','_']\n",
        "  for i in range(int(length/2)):\n",
        "    alpha.append(random.choice(a))\n",
        "  return(alpha)\n",
        "def final(alpha,numbers):\n",
        "  final=numbers+alpha\n",
        "  return(final)\n",
        "def pwd_gen(final):\n",
        "  random.shuffle(final)\n",
        "  inipwd=[str(element) for element in final ]\n",
        "  pwd=''.join(inipwd)\n",
        "  print(pwd)\n",
        "length=int(input(\"enter the length of password: \"))\n",
        "a=number(length)\n",
        "b=alphabets(length)\n",
        "c=final(a,b)\n",
        "pwd_gen(c)\n",
        "\n",
        "\n",
        "\n"
      ],
      "metadata": {
        "colab": {
          "base_uri": "https://localhost:8080/"
        },
        "id": "V08MBReaESKN",
        "outputId": "7158d6c4-ea30-49d6-99ce-635f024dec2c"
      },
      "execution_count": null,
      "outputs": [
        {
          "output_type": "stream",
          "name": "stdout",
          "text": [
            "enter the length of password: 10\n",
            "TZ63732ipP\n"
          ]
        }
      ]
    }
  ]
}